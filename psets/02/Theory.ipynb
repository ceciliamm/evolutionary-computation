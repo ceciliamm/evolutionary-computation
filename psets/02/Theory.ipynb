{
 "cells": [
  {
   "cell_type": "markdown",
   "metadata": {},
   "source": [
    "# Theory"
   ]
  },
  {
   "cell_type": "markdown",
   "metadata": {},
   "source": [
    "## 1.- Convexity\n",
    "\n",
    "* b) Given a two functions, $f_1$ and $f_2$, find the minimum optimum value by using **gradient descent** with $x_0 = 0$ and an arbitrary $\\alpha$. Which $\\alpha$ values make the algorithm more efficient?\n",
    "\n",
    "**$f_1(x)$**:\n",
    "$$\n",
    "    f_1(x) = x^2 - 2ex + e^2 - 2 \\\\\n",
    "    f_1(x) = (e - x)^2 - 2\n",
    "$$\n",
    "\n",
    "**$f_2(x)$**:\n",
    "$$\n",
    "    f_2(x) = x^6 - 6ex^5 + 15e^2x^4 - 20e^3x^3 + 15e^4x^2 - 6e^5x + e^6 - 6 \\\\\n",
    "    f_1(x) = (e - x)^6 - 6\n",
    "$$"
   ]
  },
  {
   "cell_type": "code",
   "execution_count": 8,
   "metadata": {},
   "outputs": [],
   "source": [
    "# Functions implementation\n",
    "import math\n",
    "\n",
    "def f1(x):\n",
    "    \"\"\"F1 implementation.\"\"\"\n",
    "    return ((math.e - x) ** 2) - 2\n",
    "\n",
    "def f2(x):\n",
    "    \"\"\"F2 implementation.\"\"\"\n",
    "    return ((math.e - x) ** 6) - 6\n"
   ]
  },
  {
   "cell_type": "markdown",
   "metadata": {},
   "source": [
    "**$f_1$ derivative**:\n",
    "$$f_1'(x) = 2x - 2e$$\n",
    "\n",
    "**$f_2$ derivative**:\n",
    "$$\n",
    "    f_2'(x) =  6 x^5  - 30 e x^4  + 60 e^2 x^3  - 60 e^3 x^2 + 30 e^4 x - 6 e^5 \\\\\n",
    "    f_2'(x) = -6(e-x)^5\n",
    "$$"
   ]
  },
  {
   "cell_type": "code",
   "execution_count": null,
   "metadata": {},
   "outputs": [],
   "source": [
    "# Derivatives implementation\n",
    "import math\n",
    "\n",
    "def df1(x):\n",
    "    \"\"\"F1's first derivative.\"\"\"\n",
    "    return -2 * (math.e - x)\n",
    "\n",
    "def df2(x):\n",
    "    \"\"\"F2's first derivative.\"\"\"\n",
    "    return -6 * (math.e - x)**5"
   ]
  },
  {
   "cell_type": "code",
   "execution_count": null,
   "metadata": {},
   "outputs": [],
   "source": [
    "# Gradient descent implementation\n",
    "\n",
    "def gradient_descent(x, alpha, f, df precision=0.00001):\n",
    "    \"\"\"Gradient descent.\n",
    "    \n",
    "    Parameters\n",
    "    ----------\n",
    "    x : float\n",
    "        Starting point\n",
    "    alpha : float\n",
    "        Step size\n",
    "    f : function\n",
    "        Function to be otpmized\n",
    "    df : function\n",
    "        Derivative of f\n",
    "    \"\"\""
   ]
  },
  {
   "cell_type": "code",
   "execution_count": null,
   "metadata": {},
   "outputs": [],
   "source": []
  }
 ],
 "metadata": {
  "kernelspec": {
   "display_name": "Python 3",
   "language": "python",
   "name": "python3"
  },
  "language_info": {
   "codemirror_mode": {
    "name": "ipython",
    "version": 3
   },
   "file_extension": ".py",
   "mimetype": "text/x-python",
   "name": "python",
   "nbconvert_exporter": "python",
   "pygments_lexer": "ipython3",
   "version": "3.7.2"
  }
 },
 "nbformat": 4,
 "nbformat_minor": 2
}
