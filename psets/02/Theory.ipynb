{
 "cells": [
  {
   "cell_type": "markdown",
   "metadata": {},
   "source": [
    "# Theory"
   ]
  },
  {
   "cell_type": "markdown",
   "metadata": {},
   "source": [
    "## 1.- Convexity\n",
    "\n",
    "* b) Given a two functions, $f_1$ and $f_2$, find the minimum optimum value by using **gradient descent** with $x_0 = 0$ and an arbitrary $\\alpha$. Which $\\alpha$ values make the algorithm more efficient?\n",
    "\n",
    "**$f_1(x)$**:\n",
    "$$\n",
    "    f_1(x) = x^2 - 2ex + e^2 - 2 \\\\\n",
    "    f_1(x) = (e - x)^2 - 2\n",
    "$$\n",
    "\n",
    "**$f_2(x)$**:\n",
    "$$\n",
    "    f_2(x) = x^6 - 6ex^5 + 15e^2x^4 - 20e^3x^3 + 15e^4x^2 - 6e^5x + e^6 - 6 \\\\\n",
    "    f_1(x) = (e - x)^6 - 6\n",
    "$$"
   ]
  },
  {
   "cell_type": "code",
   "execution_count": 8,
   "metadata": {},
   "outputs": [],
   "source": [
    "# Functions implementation\n",
    "import math\n",
    "\n",
    "def f1(x):\n",
    "    \"\"\"F1 implementation.\"\"\"\n",
    "    return ((math.e - x) ** 2) - 2\n",
    "\n",
    "def f2(x):\n",
    "    \"\"\"F2 implementation.\"\"\"\n",
    "    return ((math.e - x) ** 6) - 6\n"
   ]
  },
  {
   "cell_type": "markdown",
   "metadata": {},
   "source": [
    "**$f_1$ derivative**:\n",
    "$$f_1'(x) = 2x - 2e$$\n",
    "\n",
    "**$f_2$ derivative**:\n",
    "$$\n",
    "    f_2'(x) =  6 x^5  - 30 e x^4  + 60 e^2 x^3  - 60 e^3 x^2 + 30 e^4 x - 6 e^5 \\\\\n",
    "    f_2'(x) = -6(e-x)^5\n",
    "$$"
   ]
  },
  {
   "cell_type": "code",
   "execution_count": 13,
   "metadata": {},
   "outputs": [],
   "source": [
    "# Derivatives implementation\n",
    "import math\n",
    "\n",
    "def df1(x):\n",
    "    \"\"\"F1's first derivative.\"\"\"\n",
    "    return -2 * (math.e - x)\n",
    "\n",
    "def df2(x):\n",
    "    \"\"\"F2's first derivative.\"\"\"\n",
    "    return -6 * (math.e - x)**5"
   ]
  },
  {
   "cell_type": "code",
   "execution_count": 19,
   "metadata": {},
   "outputs": [],
   "source": [
    "# Gradient descent implementation\n",
    "\n",
    "def gradient_descent(x, alpha, df, precision=0.00000001, max_iters=1000000):\n",
    "    \"\"\"Gradient descent.\n",
    "    \n",
    "    Parameters\n",
    "    ----------\n",
    "    x : float\n",
    "        Starting point\n",
    "    alpha : float\n",
    "        Step size\n",
    "    df : function\n",
    "        Derivative of the function to be optmized\n",
    "    precision : float, optional\n",
    "        Min precission required to stop the descent\n",
    "    max_iters : int, optiona\n",
    "        Maximum number of trials that the algorithm will run\n",
    "    \n",
    "    Returns\n",
    "    -------\n",
    "    x : float\n",
    "        Minimum value within precision\n",
    "    iters : int\n",
    "        Number of iterations the algorithm ran before finding y\n",
    "    \"\"\"\n",
    "    previous_step_size = 1\n",
    "    iters = 0\n",
    "    while previous_step_size > precision and iters < max_iters:\n",
    "        last_x = x\n",
    "        x -= alpha * df(last_x)\n",
    "        previous_step_size = abs(x - last_x)\n",
    "        iters += 1\n",
    "    return x, iters"
   ]
  },
  {
   "cell_type": "code",
   "execution_count": 23,
   "metadata": {},
   "outputs": [
    {
     "name": "stdout",
     "output_type": "stream",
     "text": [
      "2.718281790036739\n",
      "-1.9999999999999982\n",
      "81\n"
     ]
    }
   ],
   "source": [
    "x, iters = gradient_descent(0, 0.1, df1)\n",
    "print(x)\n",
    "print(f1(x))\n",
    "print(iters)"
   ]
  },
  {
   "cell_type": "code",
   "execution_count": 33,
   "metadata": {},
   "outputs": [
    {
     "name": "stdout",
     "output_type": "stream",
     "text": [
      "[0.0005, 0.001, 0.005, 0.01, 0.05, 0.1, 0.5, 1, 5.0, 10]\n"
     ]
    }
   ],
   "source": [
    "alphas = [10**i for i in range(1, -4, -1)]\n",
    "alphas += [e / 2 for e in alphas]\n",
    "alphas.sort()\n",
    "print(alphas)"
   ]
  },
  {
   "cell_type": "code",
   "execution_count": null,
   "metadata": {},
   "outputs": [],
   "source": []
  }
 ],
 "metadata": {
  "kernelspec": {
   "display_name": "Python 3",
   "language": "python",
   "name": "python3"
  },
  "language_info": {
   "codemirror_mode": {
    "name": "ipython",
    "version": 3
   },
   "file_extension": ".py",
   "mimetype": "text/x-python",
   "name": "python",
   "nbconvert_exporter": "python",
   "pygments_lexer": "ipython3",
   "version": "3.7.2"
  }
 },
 "nbformat": 4,
 "nbformat_minor": 2
}
