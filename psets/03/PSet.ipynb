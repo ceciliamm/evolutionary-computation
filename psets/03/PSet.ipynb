{
 "cells": [
  {
   "cell_type": "code",
   "execution_count": 3,
   "metadata": {},
   "outputs": [
    {
     "name": "stdout",
     "output_type": "stream",
     "text": [
      "Importing museums:\n",
      "\t✅ Universum\n",
      "\t✅ Templo Mayor\n",
      "\t✅ Antiguo Colegio de San Idelfonso\n",
      "\t✅ Palacio Nacional\n",
      "\t✅ Museo Nacional del Arte\n",
      "\t✅ Museo del Estanquillo\n",
      "\t✅ Antiguo Palacio de Iturbide\n",
      "\t✅ Museo Franz Mayer\n",
      "\t✅ Museo de Memoria y Tolerancia\n",
      "\t✅ Museo Soumaya\n",
      "\t✅ Museo Casa del Risco\n",
      "\t✅ Museo de El Carmen\n",
      "\t✅ Museo de Arte Carrillo Gil\n",
      "\t✅ Museo Casa de León Trotsky\n",
      "\t✅ Museo de Historia Natural\n",
      "\t✅ Museo de Arte Moderno\n",
      "Adding edges:\n",
      "\t🔗 Museo de Historia Natural + Museo de Arte Moderno\n",
      "\t🔗 Universum + Museo Casa del Risco\n",
      "\t🔗 Universum + Museo de El Carmen\n",
      "\t🔗 Universum + Museo de Arte Carrillo Gil\n",
      "\t🔗 Museo Casa de León Trotsky + Museo de Arte Carrillo Gil\n",
      "\t🔗 Museo de El Carmen + Museo de Arte Carrillo Gil\n",
      "\t🔗 Museo Casa del Risco + Museo de El Carmen\n",
      "\t🔗 Museo Casa del Risco + Museo de Arte Carrillo Gil\n",
      "\t🔗 Museo Casa de León Trotsky + Museo Casa del Risco\n",
      "\t🔗 Museo Casa de León Trotsky + Museo de Historia Natural\n",
      "\t🔗 Museo Casa de León Trotsky + Museo de Arte Moderno\n",
      "\t🔗 Museo de Historia Natural + Museo Soumaya\n",
      "\t🔗 Museo de Arte Moderno + Museo Soumaya\n",
      "\t🔗 Museo de Memoria y Tolerancia + Museo Soumaya\n",
      "\t🔗 Museo de Memoria y Tolerancia + Museo de Arte Moderno\n",
      "\t🔗 Templo Mayor + Antiguo Colegio de San Idelfonso\n",
      "\t🔗 Antiguo Colegio de San Idelfonso + Palacio Nacional\n",
      "\t🔗 Templo Mayor + Palacio Nacional\n",
      "\t🔗 Museo Nacional del Arte + Museo del Estanquillo\n",
      "\t🔗 Museo Nacional del Arte + Antiguo Palacio de Iturbide\n",
      "\t🔗 Museo Nacional del Arte + Museo Franz Mayer\n",
      "\t🔗 Antiguo Colegio de San Idelfonso + Museo del Estanquillo\n",
      "\t🔗 Antiguo Palacio de Iturbide + Museo Franz Mayer\n",
      "\t🔗 Antiguo Palacio de Iturbide + Museo del Estanquillo\n",
      "\t🔗 Antiguo Palacio de Iturbide + Museo de Memoria y Tolerancia\n",
      "\t🔗 Museo Franz Mayer + Museo de Memoria y Tolerancia\n",
      "\t🔗 Templo Mayor + Antiguo Palacio de Iturbide\n",
      "Adding normalizer\n",
      "\tComputed: 60146.91528321251\n",
      "-3\n"
     ]
    }
   ],
   "source": [
    "import random\n",
    "\n",
    "\n",
    "from pset.data import load_data\n",
    "from pset.algorithms import simulated_annealing as SA\n",
    "\n",
    "museums = load_data()\n",
    "def f(x):\n",
    "    return (5*x*x) + (30*x) + 10\n",
    "def n(x):\n",
    "    return x + random.choice([-1, 1])\n",
    "def t(i):\n",
    "    return i*.99\n",
    "\n",
    "print(SA(\n",
    "    s0=random.randint(-100, 100),\n",
    "    t0=100,\n",
    "    e=f,\n",
    "    n=n,\n",
    "    t=t\n",
    "))"
   ]
  },
  {
   "cell_type": "code",
   "execution_count": null,
   "metadata": {},
   "outputs": [],
   "source": []
  }
 ],
 "metadata": {
  "kernelspec": {
   "display_name": "Python 3",
   "language": "python",
   "name": "python3"
  },
  "language_info": {
   "codemirror_mode": {
    "name": "ipython",
    "version": 3
   },
   "file_extension": ".py",
   "mimetype": "text/x-python",
   "name": "python",
   "nbconvert_exporter": "python",
   "pygments_lexer": "ipython3",
   "version": "3.7.1"
  }
 },
 "nbformat": 4,
 "nbformat_minor": 2
}
