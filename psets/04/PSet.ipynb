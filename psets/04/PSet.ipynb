{
 "cells": [
  {
   "cell_type": "code",
   "execution_count": 1,
   "metadata": {},
   "outputs": [],
   "source": [
    "from pset.algorithms import SGA\n",
    "\n",
    "\n",
    "def run_simulation(mp, role_model):\n",
    "    \"\"\"Run simulation\"\"\"\n",
    "    sim = SGA(mp, rm_attr)\n",
    "\n",
    "    print(\"Starting SGA with:\")\n",
    "    print(\"\\tMutation probability =\", sim.mutation_prob)\n",
    "    print(\"\\tRole model attributes:\")\n",
    "    for k, v in sim.role_model.attributes.items():\n",
    "        print(\"\\t\\t{}: {}\".format(k, v))\n",
    "    print(\"\\t\\tgenome: {}\".format(sim.role_model.genome))\n",
    "    print(\"\\t\\tfitness: {}\".format(sim.role_model.fitness))\n",
    "\n",
    "    sim.run()\n",
    "    print('...')\n",
    "\n",
    "    last_population = sim.last_pop\n",
    "    last_population.sort(key=lambda i: i.fitness, reverse=True)\n",
    "    best_individual = last_population[0]\n",
    "    \n",
    "    print(\"Result\")\n",
    "    print(\"\\tLast population mean =\", sim.fitnes_over_time[0][-1])\n",
    "    print(\"\\tLast population std =\", sim.fitnes_over_time[1][-1])\n",
    "    "
   ]
  },
  {
   "cell_type": "code",
   "execution_count": 2,
   "metadata": {},
   "outputs": [
    {
     "name": "stdout",
     "output_type": "stream",
     "text": [
      "Starting SGA with:\n",
      "\tMutation probability = 0.1\n",
      "\tRole model attributes:\n",
      "\t\theight: 198\n",
      "\t\tbody_type: 4\n",
      "\t\thair_color: (197, 97, 12)\n",
      "\t\teyes_color: (197, 80, 35)\n",
      "\t\tskin_color: (37, 27, 33)\n",
      "\t\tgenome: 101001110101000100001010101001110111100000110010001101110001011000110001101001010110\n",
      "\t\tfitness: 1.0\n"
     ]
    },
    {
     "ename": "AttributeError",
     "evalue": "'SGA' object has no attribute 'last_population'",
     "output_type": "error",
     "traceback": [
      "\u001b[0;31m---------------------------------------------------------------------------\u001b[0m",
      "\u001b[0;31mAttributeError\u001b[0m                            Traceback (most recent call last)",
      "\u001b[0;32m<ipython-input-2-5767eac1408c>\u001b[0m in \u001b[0;36m<module>\u001b[0;34m\u001b[0m\n\u001b[1;32m      7\u001b[0m     \u001b[0;34m'skin_color'\u001b[0m\u001b[0;34m:\u001b[0m \u001b[0;34m(\u001b[0m\u001b[0;36m37\u001b[0m\u001b[0;34m,\u001b[0m \u001b[0;36m27\u001b[0m\u001b[0;34m,\u001b[0m \u001b[0;36m33\u001b[0m\u001b[0;34m)\u001b[0m\u001b[0;34m,\u001b[0m\u001b[0;34m\u001b[0m\u001b[0;34m\u001b[0m\u001b[0m\n\u001b[1;32m      8\u001b[0m }\n\u001b[0;32m----> 9\u001b[0;31m \u001b[0mrun_simulation\u001b[0m\u001b[0;34m(\u001b[0m\u001b[0;36m0.1\u001b[0m\u001b[0;34m,\u001b[0m \u001b[0mrm_attr\u001b[0m\u001b[0;34m)\u001b[0m\u001b[0;34m\u001b[0m\u001b[0;34m\u001b[0m\u001b[0m\n\u001b[0m",
      "\u001b[0;32m<ipython-input-1-60e82caecbef>\u001b[0m in \u001b[0;36mrun_simulation\u001b[0;34m(mp, role_model)\u001b[0m\n\u001b[1;32m     15\u001b[0m \u001b[0;34m\u001b[0m\u001b[0m\n\u001b[1;32m     16\u001b[0m     \u001b[0msim\u001b[0m\u001b[0;34m.\u001b[0m\u001b[0mrun\u001b[0m\u001b[0;34m(\u001b[0m\u001b[0;34m)\u001b[0m\u001b[0;34m\u001b[0m\u001b[0;34m\u001b[0m\u001b[0m\n\u001b[0;32m---> 17\u001b[0;31m     \u001b[0mlast_population\u001b[0m \u001b[0;34m=\u001b[0m \u001b[0msim\u001b[0m\u001b[0;34m.\u001b[0m\u001b[0mlast_population\u001b[0m\u001b[0;34m\u001b[0m\u001b[0;34m\u001b[0m\u001b[0m\n\u001b[0m\u001b[1;32m     18\u001b[0m     \u001b[0mlast_population\u001b[0m\u001b[0;34m.\u001b[0m\u001b[0msort\u001b[0m\u001b[0;34m(\u001b[0m\u001b[0mkey\u001b[0m\u001b[0;34m=\u001b[0m\u001b[0;32mlambda\u001b[0m \u001b[0mi\u001b[0m\u001b[0;34m:\u001b[0m \u001b[0mi\u001b[0m\u001b[0;34m.\u001b[0m\u001b[0mfitness\u001b[0m\u001b[0;34m,\u001b[0m \u001b[0mreverse\u001b[0m\u001b[0;34m=\u001b[0m\u001b[0;32mTrue\u001b[0m\u001b[0;34m)\u001b[0m\u001b[0;34m\u001b[0m\u001b[0;34m\u001b[0m\u001b[0m\n\u001b[1;32m     19\u001b[0m     \u001b[0mbest_individual\u001b[0m \u001b[0;34m=\u001b[0m \u001b[0mlast_population\u001b[0m\u001b[0;34m[\u001b[0m\u001b[0;36m0\u001b[0m\u001b[0;34m]\u001b[0m\u001b[0;34m\u001b[0m\u001b[0;34m\u001b[0m\u001b[0m\n",
      "\u001b[0;31mAttributeError\u001b[0m: 'SGA' object has no attribute 'last_population'"
     ]
    }
   ],
   "source": [
    "# Ex. 1 Role model\n",
    "rm_attr = {  # Role model attribures\n",
    "    'height': 198,\n",
    "    'body_type': 4,\n",
    "    'hair_color': (197, 97, 12),\n",
    "    'eyes_color': (197, 80, 35),\n",
    "    'skin_color': (37, 27, 33),\n",
    "}\n",
    "run_simulation(0.1, rm_attr)"
   ]
  },
  {
   "cell_type": "code",
   "execution_count": null,
   "metadata": {},
   "outputs": [],
   "source": []
  },
  {
   "cell_type": "code",
   "execution_count": null,
   "metadata": {},
   "outputs": [],
   "source": [
    "### import random\n",
    "bin(random.getrandbits(84))[2:]"
   ]
  }
 ],
 "metadata": {
  "kernelspec": {
   "display_name": "Python 3",
   "language": "python",
   "name": "python3"
  },
  "language_info": {
   "codemirror_mode": {
    "name": "ipython",
    "version": 3
   },
   "file_extension": ".py",
   "mimetype": "text/x-python",
   "name": "python",
   "nbconvert_exporter": "python",
   "pygments_lexer": "ipython3",
   "version": "3.7.1"
  }
 },
 "nbformat": 4,
 "nbformat_minor": 2
}
