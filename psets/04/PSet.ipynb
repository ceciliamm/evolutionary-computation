{
 "cells": [
  {
   "cell_type": "code",
   "execution_count": 1,
   "metadata": {},
   "outputs": [],
   "source": [
    "from pset.algorithms import SGA\n",
    "\n",
    "%matplotlib inline\n",
    "import matplotlib.pyplot as plt\n",
    "import numpy as np\n",
    "\n",
    "\n",
    "def run_simulation(mp, role_model):\n",
    "    \"\"\"Run simulation\"\"\"\n",
    "    sim = SGA(mp, rm_attr)\n",
    "\n",
    "    print(\"Starting SGA with:\")\n",
    "    print(\"\\tMutation probability =\", sim.mutation_prob)\n",
    "    print(\"\\tMax trials =\", sim.MAX_TRIALS)\n",
    "    print(\"\\tPrecision =\", sim.PRECISION)\n",
    "    print(\"\\tPopulation size =\", sim.POP_SIZE)\n",
    "    print(\"\\tRole model attributes:\")\n",
    "    for k, v in sim.role_model.attributes.items():\n",
    "        print(\"\\t\\t{}: {}\".format(k, v))\n",
    "    print(\"\\t\\tgenome: {}\".format(sim.role_model.genome))\n",
    "    print(\"\\t\\tfitness: {}\".format(sim.role_model.fitness))\n",
    "\n",
    "    sim.run()\n",
    "    print('...')\n",
    "\n",
    "    last_population = sim.last_pop\n",
    "    last_population.sort(key=lambda i: i.fitness, reverse=True)\n",
    "    best_individual = last_population[0]\n",
    "    \n",
    "    print(\"SGA converged after {} generations\".format(sim.generations))\n",
    "    print(\"Results:\")\n",
    "    print(\"\\tLast population mean =\", sim.fitness_over_time[0][-1])\n",
    "    print(\"\\tLast population std =\", sim.fitness_over_time[1][-1])\n",
    "    print(\"\\tBest fitted individual:\")\n",
    "    for k, v in best_individual.attributes.items():\n",
    "        print(\"\\t\\t{}: {}\".format(k, v))\n",
    "    print(\"\\t\\tgenome: {}\".format(best_individual.genome))\n",
    "    print(\"\\t\\tfitness: {}\".format(best_individual.fitness))\n",
    "    print(\"\\tResults over time:\")\n",
    "    \n",
    "    X = np.array(range(1, sim.generations + 2))\n",
    "    plt.title(\"Population's mean and standar deviation over time\")\n",
    "    mean_plt, = plt.plot(X, sim.fitness_over_time[0], label='mean')  # Mean\n",
    "    std_plt, = plt.plot(X, sim.fitness_over_time[1], label='std')  # Standard deviation\n",
    "    plt.legend(handles=[mean_plt, std_plt])\n",
    "    plt.show()\n",
    "    \n",
    "    return best_individual\n",
    "    "
   ]
  },
  {
   "cell_type": "code",
   "execution_count": 2,
   "metadata": {},
   "outputs": [
    {
     "name": "stdout",
     "output_type": "stream",
     "text": [
      "Starting SGA with:\n",
      "\tMutation probability = 0.1\n",
      "\tMax trials = 100000000\n",
      "\tPrecision = 0.01\n",
      "\tPopulation size = 100\n",
      "\tRole model attributes:\n",
      "\t\theight: 198\n",
      "\t\tbody_type: 4\n",
      "\t\thair_color: (197, 97, 12)\n",
      "\t\teyes_color: (197, 80, 35)\n",
      "\t\tskin_color: (37, 27, 33)\n",
      "\t\tgenome: 101001110101000100001010101001110111100000110010001101110001011000110001101001010110\n",
      "\t\tfitness: 1.0\n",
      "...\n",
      "SGA converged after 13362 generations\n",
      "Results:\n",
      "\tLast population mean = 0.994047619047619\n",
      "\tLast population std = 0.005952380952380931\n",
      "\tBest fitted individual:\n",
      "\t\theight: 198\n",
      "\t\tbody_type: 4\n",
      "\t\thair_color: (197, 97, 12)\n",
      "\t\teyes_color: (197, 80, 35)\n",
      "\t\tskin_color: (37, 27, 33)\n",
      "\t\tgenome: 101001110101000100001010101001110111100000110010001101110001011000110001101001010110\n",
      "\t\tfitness: 1.0\n",
      "\tResults over time:\n"
     ]
    },
    {
     "data": {
      "image/png": "[encoded data removed]",
      "text/plain": [
       "<Figure size 432x288 with 1 Axes>"
      ]
     },
     "metadata": {
      "needs_background": "light"
     },
     "output_type": "display_data"
    }
   ],
   "source": [
    "from pset.visualizador import grafica\n",
    "\n",
    "# Ex. 1 Role model\n",
    "rm_attr = {  # Role model attribures\n",
    "    'height': 198,\n",
    "    'body_type': 4,\n",
    "    'hair_color': (197, 97, 12),\n",
    "    'eyes_color': (197, 80, 35),\n",
    "    'skin_color': (37, 27, 33),\n",
    "}\n",
    "individual = run_simulation(0.1, rm_attr).attributes\n",
    "grafica(\n",
    "    individual['eyes_color'],\n",
    "    individual['skin_color'],\n",
    "    individual['hair_color'],\n",
    "    filename='./assets/EX1Avatar.png'\n",
    ")"
   ]
  },
  {
   "cell_type": "code",
   "execution_count": 2,
   "metadata": {},
   "outputs": [
    {
     "name": "stdout",
     "output_type": "stream",
     "text": [
      "Starting SGA with:\n",
      "\tMutation probability = 0.1\n",
      "\tMax trials = 100000000\n",
      "\tPrecision = 0.01\n",
      "\tPopulation size = 100\n",
      "\tRole model attributes:\n",
      "\t\theight: 173\n",
      "\t\tbody_type: 14\n",
      "\t\thair_color: (99, 50, 110)\n",
      "\t\teyes_color: (99, 50, 110)\n",
      "\t\tskin_color: (248, 230, 254)\n",
      "\t\tgenome: 010100100010101101011001010100100010101101011001100001001001010110000001111110111001\n",
      "\t\tfitness: 1.0\n",
      "...\n",
      "SGA converged after 16052 generations\n",
      "Results:\n",
      "\tLast population mean = 0.9942857142857142\n",
      "\tLast population std = 0.005947617141331787\n",
      "\tBest fitted individual:\n",
      "\t\theight: 173\n",
      "\t\tbody_type: 14\n",
      "\t\thair_color: (99, 50, 110)\n",
      "\t\teyes_color: (99, 50, 110)\n",
      "\t\tskin_color: (248, 230, 254)\n",
      "\t\tgenome: 010100100010101101011001010100100010101101011001100001001001010110000001111110111001\n",
      "\t\tfitness: 1.0\n",
      "\tResults over time:\n"
     ]
    },
    {
     "data": {
      "image/png": "[encoded data removed]",
      "text/plain": [
       "<Figure size 432x288 with 1 Axes>"
      ]
     },
     "metadata": {
      "needs_background": "light"
     },
     "output_type": "display_data"
    }
   ],
   "source": [
    "from pset.visualizador import grafica\n",
    "\n",
    "# Ex. 1 Role model\n",
    "rm_attr = {  # Role model attribures\n",
    "    'height': 173,\n",
    "    'body_type': 14,\n",
    "    'hair_color': (99, 50, 110),\n",
    "    'eyes_color': (99, 50, 110),\n",
    "    'skin_color': (248, 230, 254)\n",
    "}\n",
    "individual = run_simulation(0.1, rm_attr).attributes\n",
    "grafica(\n",
    "    individual['eyes_color'],\n",
    "    individual['skin_color'],\n",
    "    individual['hair_color'],\n",
    "    filename='./assets/EX2Avatar.png'\n",
    ")"
   ]
  },
  {
   "cell_type": "code",
   "execution_count": 2,
   "metadata": {},
   "outputs": [
    {
     "name": "stdout",
     "output_type": "stream",
     "text": [
      "Starting SGA with:\n",
      "\tMutation probability = 0.1\n",
      "\tMax trials = 100000000\n",
      "\tPrecision = 0.01\n",
      "\tPopulation size = 100\n",
      "\tRole model attributes:\n",
      "\t\theight: 183\n",
      "\t\tbody_type: 10\n",
      "\t\thair_color: (202, 171, 119)\n",
      "\t\teyes_color: (202, 171, 119)\n",
      "\t\tskin_color: (254, 217, 15)\n",
      "\t\tgenome: 101011111111111001001100101011111111111001001100100000011011010100001000111011001111\n",
      "\t\tfitness: 1.0\n",
      "...\n",
      "SGA converged after 3673 generations\n",
      "Results:\n",
      "\tLast population mean = 0.9941666666666665\n",
      "\tLast population std = 0.005951190357119021\n",
      "\tBest fitted individual:\n",
      "\t\theight: 183\n",
      "\t\tbody_type: 10\n",
      "\t\thair_color: (202, 171, 119)\n",
      "\t\teyes_color: (202, 171, 119)\n",
      "\t\tskin_color: (254, 217, 15)\n",
      "\t\tgenome: 101011111111111001001100101011111111111001001100100000011011010100001000111011001111\n",
      "\t\tfitness: 1.0\n",
      "\tResults over time:\n"
     ]
    },
    {
     "data": {
      "image/png": "[encoded data removed]",
      "text/plain": [
       "<Figure size 432x288 with 1 Axes>"
      ]
     },
     "metadata": {
      "needs_background": "light"
     },
     "output_type": "display_data"
    }
   ],
   "source": [
    "from pset.visualizador import grafica\n",
    "\n",
    "# Ex. 1 Role model\n",
    "rm_attr = {  # Role model attribures\n",
    "    'height': 183,\n",
    "    'body_type': 10,\n",
    "    'hair_color': (202, 171, 119),\n",
    "    'eyes_color': (202, 171, 119),\n",
    "    'skin_color': (254, 217, 15)\n",
    "}\n",
    "individual = run_simulation(0.1, rm_attr).attributes\n",
    "grafica(\n",
    "    individual['eyes_color'],\n",
    "    individual['skin_color'],\n",
    "    individual['hair_color'],\n",
    "    filename='./assets/EX3Avatar.png'\n",
    ")"
   ]
  },
  {
   "cell_type": "code",
   "execution_count": null,
   "metadata": {},
   "outputs": [],
   "source": []
  }
 ],
 "metadata": {
  "kernelspec": {
   "display_name": "Python 3",
   "language": "python",
   "name": "python3"
  },
  "language_info": {
   "codemirror_mode": {
    "name": "ipython",
    "version": 3
   },
   "file_extension": ".py",
   "mimetype": "text/x-python",
   "name": "python",
   "nbconvert_exporter": "python",
   "pygments_lexer": "ipython3",
   "version": "3.7.1"
  }
 },
 "nbformat": 4,
 "nbformat_minor": 2
}
