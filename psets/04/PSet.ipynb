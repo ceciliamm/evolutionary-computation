{
 "cells": [
  {
   "cell_type": "code",
   "execution_count": 11,
   "metadata": {},
   "outputs": [],
   "source": [
    "from pset.algorithms import SGA\n",
    "\n",
    "\n",
    "def run_simulation(mp, role_model):\n",
    "    \"\"\"Run simulation\"\"\"\n",
    "    sim = SGA(mp, rm_attr)\n",
    "    print(\"Starting SGA with:\")\n",
    "    print(\"\\tMutation probability =\", sim.mutation_prob)\n",
    "    print(\"\\tRole model attributes:\")\n",
    "    for k, v in sim.role_model.attributes.items():\n",
    "        print(\"\\t\\t{}: {}\".format(k, v))\n",
    "    print(\"\\t\\tgenome: {}\".format(sim.role_model.genome))\n",
    "    print(\"\\t\\tfitness: {}\".format(sim.role_model.fitness))"
   ]
  },
  {
   "cell_type": "code",
   "execution_count": 12,
   "metadata": {},
   "outputs": [
    {
     "name": "stdout",
     "output_type": "stream",
     "text": [
      "Starting SGA with:\n",
      "\tMutation probability = 0.1\n",
      "\tRole model attributes:\n",
      "\t\theight: 198\n",
      "\t\tbody_type: 4\n",
      "\t\thair_color: (197, 97, 12)\n",
      "\t\teyes_color: (197, 80, 35)\n",
      "\t\tskin_color: (37, 27, 33)\n",
      "\t\tgenome: 101001110101000100001010101001110111100000110010001101110001011000110001101001010110\n",
      "\t\tfitness: 1.0\n"
     ]
    }
   ],
   "source": [
    "# Ex. 1 Role model\n",
    "rm_attr = {  # Role model attribures\n",
    "    'height': 198,\n",
    "    'body_type': 4,\n",
    "    'hair_color': (197, 97, 12),\n",
    "    'eyes_color': (197, 80, 35),\n",
    "    'skin_color': (37, 27, 33),\n",
    "}\n",
    "run_simulation(0.1, rm_attr)"
   ]
  },
  {
   "cell_type": "code",
   "execution_count": 20,
   "metadata": {},
   "outputs": [
    {
     "data": {
      "text/plain": [
       "'111100000001100001001100111111111101100111001111011101100110101101000100111010000001'"
      ]
     },
     "execution_count": 20,
     "metadata": {},
     "output_type": "execute_result"
    }
   ],
   "source": [
    "import random\n",
    "bin(random.getrandbits(84))[2:]"
   ]
  },
  {
   "cell_type": "code",
   "execution_count": null,
   "metadata": {},
   "outputs": [],
   "source": []
  }
 ],
 "metadata": {
  "kernelspec": {
   "display_name": "Python 3",
   "language": "python",
   "name": "python3"
  },
  "language_info": {
   "codemirror_mode": {
    "name": "ipython",
    "version": 3
   },
   "file_extension": ".py",
   "mimetype": "text/x-python",
   "name": "python",
   "nbconvert_exporter": "python",
   "pygments_lexer": "ipython3",
   "version": "3.7.1"
  }
 },
 "nbformat": 4,
 "nbformat_minor": 2
}
