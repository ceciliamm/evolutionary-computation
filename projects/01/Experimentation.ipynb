{
 "cells": [
  {
   "cell_type": "code",
   "execution_count": 1,
   "metadata": {},
   "outputs": [
    {
     "name": "stdout",
     "output_type": "stream",
     "text": [
      "Algorithm finished:\n",
      "\tGenerations: 276\n",
      "\tFitness: 7.292322315345288\n"
     ]
    }
   ],
   "source": [
    "from project.algorithms import ESMuPLambda\n",
    "\n",
    "n = 31\n",
    "y, x = 10, 30\n",
    "max_trials, precision = 10000, 0.0001\n",
    "mu, lam = 10, 100\n",
    "search_space = (-10, y)\n",
    "\n",
    "sim = ESMuPLambda(search_space, n, y, x, max_trials, precision, mu, lam)\n",
    "sim.run()\n",
    "\n",
    "print(\"Algorithm finished:\")\n",
    "print(\"\\tGenerations:\", sim.generations)\n",
    "print(\"\\tFitness:\", sim.results[-1][0])\n"
   ]
  },
  {
   "cell_type": "code",
   "execution_count": 2,
   "metadata": {},
   "outputs": [],
   "source": [
    "import matplotlib.pyplot as plt\n",
    "import numpy as np\n",
    "\n",
    "\n",
    "def create_fitness_gif(output_dir, frames=100):\n",
    "    fig, ax = plt.subplots()\n",
    "    step_size = int(sim.generations / frames)\n",
    "    rem = sim.generations % frames\n",
    "    data_points = step_size\n",
    "    c = 1\n",
    "    digits = int(np.log10(frames)) + 1\n",
    "\n",
    "    while data_points < sim.generations + rem:\n",
    "        ax.clear()\n",
    "        ax.set_xlabel('Generations')\n",
    "        ax.set_ylabel('Fitness')\n",
    "        population = sim.results[:data_points]\n",
    "        X = list(range(1, data_points + 1))\n",
    "        Y_mean = [r[0] for r in population]\n",
    "        Y_best = [r[1][0].fitness for r in population]\n",
    "        ax.plot(Y_mean, label='mean', color='lightcoral')\n",
    "        ax.plot(Y_best, label='best', color='darkcyan')\n",
    "        ax.legend()\n",
    "        ax.text(0.6*data_points, 0.6*max(Y_best), 'best: {:.4f}'.format(Y_best[-1]))\n",
    "        ax.text(0.6*data_points, 0.6*max(Y_best) + 3, 'mean: {:.4f}'.format(Y_mean[-1]))\n",
    "        plt.savefig('{}/{}.frame.jpg'.format(output_dir, str(c).zfill(digits)))\n",
    "        data_points += step_size\n",
    "        c += 1\n",
    "\n",
    "create_fitness_gif('output/mean', frames=100)"
   ]
  },
  {
   "cell_type": "code",
   "execution_count": 3,
   "metadata": {},
   "outputs": [
    {
     "data": {
      "image/png": "[encoded data removed]",
      "text/plain": [
       "<Figure size 432x288 with 1 Axes>"
      ]
     },
     "metadata": {
      "needs_background": "light"
     },
     "output_type": "display_data"
    }
   ],
   "source": [
    "import matplotlib.pyplot as plt\n",
    "import math\n",
    "\n",
    "\n",
    "def create_population_gif(output_dir, frames=100):\n",
    "    fig, ax = plt.subplots()\n",
    "    digits = int(math.log10(len(sim.results))) + 1\n",
    "    c = 1\n",
    "    for g in [r[1] for r in sim.results]:\n",
    "        ax.clear()\n",
    "        ax.set_xlabel('X')\n",
    "        ax.set_ylabel('Y')\n",
    "        for curve in g:\n",
    "            ax.plot(curve.chromosome, marker='o')\n",
    "        ax.text(sim.x * 0.7, sim.y * 0.5, 'best: {:.4f}'.format(g[0].fitness))\n",
    "        plt.savefig('{}/{}.frame.jpg'.format(output_dir, str(c).zfill(digits)))\n",
    "        c += 1\n",
    "            \n",
    "create_population_gif('output/curves', )"
   ]
  },
  {
   "cell_type": "code",
   "execution_count": null,
   "metadata": {},
   "outputs": [],
   "source": []
  }
 ],
 "metadata": {
  "kernelspec": {
   "display_name": "Python 3",
   "language": "python",
   "name": "python3"
  },
  "language_info": {
   "codemirror_mode": {
    "name": "ipython",
    "version": 3
   },
   "file_extension": ".py",
   "mimetype": "text/x-python",
   "name": "python",
   "nbconvert_exporter": "python",
   "pygments_lexer": "ipython3",
   "version": "3.7.2"
  }
 },
 "nbformat": 4,
 "nbformat_minor": 2
}
