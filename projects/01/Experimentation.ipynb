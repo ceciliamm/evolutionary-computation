{
 "cells": [
  {
   "cell_type": "code",
   "execution_count": 2,
   "metadata": {},
   "outputs": [
    {
     "name": "stdout",
     "output_type": "stream",
     "text": [
      "Algorithm finished:\n",
      "\tGenerations: 1184\n",
      "\tLast population mean fitness: 3.0785643162821446\n",
      "Results writen on results/2019-04-29-14:11:49.436773\n"
     ]
    }
   ],
   "source": [
    "from project.algorithms import ESMuPLambda\n",
    "\n",
    "n = 31\n",
    "y, x = 10, 30\n",
    "max_trials, precision = 10000, 0.00001\n",
    "mu, lam = 10, 100\n",
    "search_space = (-10, y)\n",
    "\n",
    "sim = ESMuPLambda(search_space, n, y, x, max_trials, precision, mu, lam, store_results=True)\n",
    "sim.run()\n",
    "\n",
    "print(\"Results writen on\", sim.output_dir)"
   ]
  },
  {
   "cell_type": "code",
   "execution_count": 3,
   "metadata": {},
   "outputs": [],
   "source": [
    "from os import listdir\n",
    "\n",
    "folder = 'results/2019-04-29-14:11:49.436773'\n",
    "files = []\n",
    "\n",
    "for l in listdir(folder):\n",
    "    if l.endswith('.results'):\n",
    "        files.append(folder + '/' + l)\n",
    "        \n",
    "files.sort()\n",
    "\n",
    "n, y, x = None, None, None\n",
    "mean = []\n",
    "chromosomes = []\n",
    "for f in files:\n",
    "    content = open(f, 'r')\n",
    "    gen = []\n",
    "    for l in content:\n",
    "        l = l.split(', ')\n",
    "        if len(l) == 1:\n",
    "            mean.append(float(l[0]))\n",
    "        elif len(l) == 3:\n",
    "            n, y, x = [int(_) for _ in l]\n",
    "        else:\n",
    "            gen.append([float(_) for _ in l])\n",
    "    chromosomes.append(gen)\n",
    "        \n",
    "            "
   ]
  },
  {
   "cell_type": "code",
   "execution_count": 4,
   "metadata": {},
   "outputs": [
    {
     "data": {
      "image/png": "[encoded data removed]",
      "text/plain": [
       "<Figure size 432x288 with 1 Axes>"
      ]
     },
     "metadata": {
      "needs_background": "light"
     },
     "output_type": "display_data"
    }
   ],
   "source": [
    "%matplotlib inline\n",
    "import matplotlib.pyplot as plt\n",
    "\n",
    "plt.figure('fitness over time')\n",
    "plt.plot(list(range(1, len(mean) + 1)), mean)\n",
    "plt.title(\"Population fitness over time\")\n",
    "plt.xlabel(\"Generations\")\n",
    "plt.ylabel(\"Mean fitness\")\n",
    "plt.show()"
   ]
  },
  {
   "cell_type": "code",
   "execution_count": 5,
   "metadata": {},
   "outputs": [
    {
     "data": {
      "image/png": "[encoded data removed]",
      "text/plain": [
       "<Figure size 432x288 with 1 Axes>"
      ]
     },
     "metadata": {
      "needs_background": "light"
     },
     "output_type": "display_data"
    }
   ],
   "source": [
    "best = chromosomes[-1]\n",
    "X = list(range(len(best[0]) + 2))\n",
    "Y = [y] + best[0] + [0]\n",
    "\n",
    "plt.figure('best curve')\n",
    "plt.plot(X, Y, marker='o')\n",
    "plt.show()"
   ]
  },
  {
   "cell_type": "code",
   "execution_count": 3,
   "metadata": {},
   "outputs": [
    {
     "data": {
      "text/plain": [
       "0.0"
      ]
     },
     "execution_count": 3,
     "metadata": {},
     "output_type": "execute_result"
    }
   ],
   "source": [
    "import numpy as np\n",
    "np.sqrt(0)"
   ]
  },
  {
   "cell_type": "code",
   "execution_count": null,
   "metadata": {},
   "outputs": [],
   "source": [
    "\n",
    "\n"
   ]
  }
 ],
 "metadata": {
  "kernelspec": {
   "display_name": "Python 3",
   "language": "python",
   "name": "python3"
  },
  "language_info": {
   "codemirror_mode": {
    "name": "ipython",
    "version": 3
   },
   "file_extension": ".py",
   "mimetype": "text/x-python",
   "name": "python",
   "nbconvert_exporter": "python",
   "pygments_lexer": "ipython3",
   "version": "3.7.1"
  }
 },
 "nbformat": 4,
 "nbformat_minor": 2
}
