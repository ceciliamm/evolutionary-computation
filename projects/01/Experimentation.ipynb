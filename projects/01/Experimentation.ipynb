{
 "cells": [
  {
   "cell_type": "code",
   "execution_count": 3,
   "metadata": {},
   "outputs": [
    {
     "name": "stdout",
     "output_type": "stream",
     "text": [
      "Algorithm finished:\n",
      "\tGenerations: 3454\n",
      "\tLast population mean fitness: 1.4147142949694362\n"
     ]
    }
   ],
   "source": [
    "from project.algorithms import ESMuPLambda\n",
    "\n",
    "n = 30\n",
    "y, x = 10, 30\n",
    "max_trials, precision = 10000, 0.00001\n",
    "mu, lam = 10, 100\n",
    "search_space = (-10, y)\n",
    "\n",
    "sim = ESMuPLambda(search_space, n, y, x, max_trials, precision, mu, lam, store_results=True)\n",
    "sim.run()"
   ]
  },
  {
   "cell_type": "code",
   "execution_count": null,
   "metadata": {},
   "outputs": [],
   "source": []
  },
  {
   "cell_type": "code",
   "execution_count": null,
   "metadata": {},
   "outputs": [],
   "source": []
  },
  {
   "cell_type": "code",
   "execution_count": null,
   "metadata": {},
   "outputs": [],
   "source": []
  }
 ],
 "metadata": {
  "kernelspec": {
   "display_name": "Python 3",
   "language": "python",
   "name": "python3"
  },
  "language_info": {
   "codemirror_mode": {
    "name": "ipython",
    "version": 3
   },
   "file_extension": ".py",
   "mimetype": "text/x-python",
   "name": "python",
   "nbconvert_exporter": "python",
   "pygments_lexer": "ipython3",
   "version": "3.7.1"
  }
 },
 "nbformat": 4,
 "nbformat_minor": 2
}
